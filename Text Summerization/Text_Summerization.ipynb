{
  "nbformat": 4,
  "nbformat_minor": 0,
  "metadata": {
    "colab": {
      "name": "Text Summerization.ipynb",
      "provenance": [],
      "collapsed_sections": []
    },
    "kernelspec": {
      "name": "python3",
      "display_name": "Python 3"
    },
    "language_info": {
      "name": "python"
    }
  },
  "cells": [
    {
      "cell_type": "code",
      "execution_count": 2,
      "metadata": {
        "id": "84-p1kBebo7u"
      },
      "outputs": [],
      "source": [
        "text = \"\"\"Sentiment analysis (or opinion mining) is a natural language processing (NLP) technique used to determine whether data is positive, negative or neutral. Sentiment analysis is often performed on textual data to help businesses monitor brand and product sentiment in customer feedback, and understand customer needs.\n",
        "Learn more about how sentiment analysis works, its challenges, and how you can use sentiment analysis to improve processes, decision-making, customer satisfaction and more.\n",
        "\n",
        "Once you’re familiar with the basics, get started with easy-to-use sentiment analysis tools that are ready to use right off the bat.\n",
        "What Is Sentiment Analysis?\n",
        "Types of Sentiment Analysis\n",
        "Why Is Sentiment Analysis Important?\n",
        "Sentiment Analysis Examples & Break Down of Trustpilot Reviews\n",
        "How Does Sentiment Analysis Work?\n",
        "Sentiment Analysis Challenges\n",
        "Sentiment Analysis Applications\n",
        "Sentiment Analysis Tools & Tutorials\n",
        "Sentiment Analysis Research & Courses\n",
        "Sentiment analysis is the process of detecting positive or negative sentiment in text. It’s often used by businesses to detect sentiment in social data, gauge brand reputation, and understand customers.\n",
        "Sentiment analysis focuses on the polarity of a text (positive, negative, neutral) but it also goes beyond polarity to detect specific feelings and emotions (angry, happy, sad, etc), urgency (urgent, not urgent) and even intentions (interested v. not interested).\n",
        "\"\"\""
      ]
    },
    {
      "cell_type": "code",
      "source": [
        "import spacy\n",
        "from spacy.lang.en.stop_words import STOP_WORDS\n",
        "from string import punctuation\n"
      ],
      "metadata": {
        "id": "LUZPm5adcD0q"
      },
      "execution_count": 3,
      "outputs": []
    },
    {
      "cell_type": "code",
      "source": [
        "nlp = spacy.load('en_core_web_sm')"
      ],
      "metadata": {
        "id": "MGYGeIUDcPXG"
      },
      "execution_count": 4,
      "outputs": []
    },
    {
      "cell_type": "code",
      "source": [
        "doc = nlp(text)"
      ],
      "metadata": {
        "id": "28_yeZJhcUzC"
      },
      "execution_count": 5,
      "outputs": []
    },
    {
      "cell_type": "code",
      "source": [
        "tokens = [token.text for token in doc]\n",
        "print(tokens)"
      ],
      "metadata": {
        "colab": {
          "base_uri": "https://localhost:8080/"
        },
        "id": "faF58KjBcanU",
        "outputId": "0132a945-940a-41fc-8507-69ed8cdefaa8"
      },
      "execution_count": 6,
      "outputs": [
        {
          "output_type": "stream",
          "name": "stdout",
          "text": [
            "['Sentiment', 'analysis', '(', 'or', 'opinion', 'mining', ')', 'is', 'a', 'natural', 'language', 'processing', '(', 'NLP', ')', 'technique', 'used', 'to', 'determine', 'whether', 'data', 'is', 'positive', ',', 'negative', 'or', 'neutral', '.', 'Sentiment', 'analysis', 'is', 'often', 'performed', 'on', 'textual', 'data', 'to', 'help', 'businesses', 'monitor', 'brand', 'and', 'product', 'sentiment', 'in', 'customer', 'feedback', ',', 'and', 'understand', 'customer', 'needs', '.', '\\n', 'Learn', 'more', 'about', 'how', 'sentiment', 'analysis', 'works', ',', 'its', 'challenges', ',', 'and', 'how', 'you', 'can', 'use', 'sentiment', 'analysis', 'to', 'improve', 'processes', ',', 'decision', '-', 'making', ',', 'customer', 'satisfaction', 'and', 'more', '.', '\\n\\n', 'Once', 'you', '’re', 'familiar', 'with', 'the', 'basics', ',', 'get', 'started', 'with', 'easy', '-', 'to', '-', 'use', 'sentiment', 'analysis', 'tools', 'that', 'are', 'ready', 'to', 'use', 'right', 'off', 'the', 'bat', '.', '\\n', 'What', 'Is', 'Sentiment', 'Analysis', '?', '\\n', 'Types', 'of', 'Sentiment', 'Analysis', '\\n', 'Why', 'Is', 'Sentiment', 'Analysis', 'Important', '?', '\\n', 'Sentiment', 'Analysis', 'Examples', '&', 'Break', 'Down', 'of', 'Trustpilot', 'Reviews', '\\n', 'How', 'Does', 'Sentiment', 'Analysis', 'Work', '?', '\\n', 'Sentiment', 'Analysis', 'Challenges', '\\n', 'Sentiment', 'Analysis', 'Applications', '\\n', 'Sentiment', 'Analysis', 'Tools', '&', 'Tutorials', '\\n', 'Sentiment', 'Analysis', 'Research', '&', 'Courses', '\\n', 'Sentiment', 'analysis', 'is', 'the', 'process', 'of', 'detecting', 'positive', 'or', 'negative', 'sentiment', 'in', 'text', '.', 'It', '’s', 'often', 'used', 'by', 'businesses', 'to', 'detect', 'sentiment', 'in', 'social', 'data', ',', 'gauge', 'brand', 'reputation', ',', 'and', 'understand', 'customers', '.', '\\n', 'Sentiment', 'analysis', 'focuses', 'on', 'the', 'polarity', 'of', 'a', 'text', '(', 'positive', ',', 'negative', ',', 'neutral', ')', 'but', 'it', 'also', 'goes', 'beyond', 'polarity', 'to', 'detect', 'specific', 'feelings', 'and', 'emotions', '(', 'angry', ',', 'happy', ',', 'sad', ',', 'etc', ')', ',', 'urgency', '(', 'urgent', ',', 'not', 'urgent', ')', 'and', 'even', 'intentions', '(', 'interested', 'v.', 'not', 'interested', ')', '.', '\\n']\n"
          ]
        }
      ]
    },
    {
      "cell_type": "code",
      "source": [
        "punctuation = punctuation + '\\n' "
      ],
      "metadata": {
        "id": "vh5T7pNncm_5"
      },
      "execution_count": 8,
      "outputs": []
    },
    {
      "cell_type": "code",
      "source": [
        "#text cleaning : \n",
        "stop_words = list(STOP_WORDS)\n",
        "word_freq = {}\n",
        "for word in doc:\n",
        "  if word.text.lower() not in stop_words:\n",
        "    if word.text.lower() not in punctuation:\n",
        "      if word.text not in word_freq.keys():\n",
        "        word_freq[word.text] = 1\n",
        "      else:\n",
        "        word_freq[word.text] += 1"
      ],
      "metadata": {
        "id": "R9nBEY0OcvOV"
      },
      "execution_count": 10,
      "outputs": []
    },
    {
      "cell_type": "code",
      "source": [
        "max_freq = max(word_freq.values())"
      ],
      "metadata": {
        "id": "RV1syOcieM7C"
      },
      "execution_count": 12,
      "outputs": []
    },
    {
      "cell_type": "code",
      "source": [
        "# normalization : \n",
        "for word in word_freq.keys():\n",
        "  word_freq[word] = word_freq[word] / max_freq\n",
        "print(word_freq)"
      ],
      "metadata": {
        "colab": {
          "base_uri": "https://localhost:8080/"
        },
        "id": "QXLINkI3eTjv",
        "outputId": "2788f13a-dde7-452a-88ca-d6bf1cc58aa6"
      },
      "execution_count": 34,
      "outputs": [
        {
          "output_type": "stream",
          "name": "stdout",
          "text": [
            "{'Sentiment': 0.00591715976331361, 'analysis': 0.0031861629494765588, 'opinion': 0.0004551661356395085, 'mining': 0.0004551661356395085, 'natural': 0.0004551661356395085, 'language': 0.0004551661356395085, 'processing': 0.0004551661356395085, 'NLP': 0.0004551661356395085, 'technique': 0.0004551661356395085, 'determine': 0.0004551661356395085, 'data': 0.0013654984069185253, 'positive': 0.0013654984069185253, 'negative': 0.0013654984069185253, 'neutral': 0.000910332271279017, 'performed': 0.0004551661356395085, 'textual': 0.0004551661356395085, 'help': 0.0004551661356395085, 'businesses': 0.000910332271279017, 'monitor': 0.0004551661356395085, 'brand': 0.000910332271279017, 'product': 0.0004551661356395085, 'sentiment': 0.0027309968138370506, 'customer': 0.0013654984069185253, 'feedback': 0.0004551661356395085, 'understand': 0.000910332271279017, 'needs': 0.0004551661356395085, 'Learn': 0.0004551661356395085, 'works': 0.0004551661356395085, 'challenges': 0.0004551661356395085, 'use': 0.0013654984069185253, 'improve': 0.0004551661356395085, 'processes': 0.0004551661356395085, 'decision': 0.0004551661356395085, 'making': 0.0004551661356395085, 'satisfaction': 0.0004551661356395085, 'familiar': 0.0004551661356395085, 'basics': 0.0004551661356395085, 'started': 0.0004551661356395085, 'easy': 0.0004551661356395085, 'tools': 0.0004551661356395085, 'ready': 0.0004551661356395085, 'right': 0.0004551661356395085, 'bat': 0.0004551661356395085, 'Analysis': 0.004096495220755576, 'Types': 0.0004551661356395085, 'Important': 0.0004551661356395085, 'Examples': 0.0004551661356395085, 'Break': 0.0004551661356395085, 'Trustpilot': 0.0004551661356395085, 'Reviews': 0.0004551661356395085, 'Work': 0.0004551661356395085, 'Challenges': 0.0004551661356395085, 'Applications': 0.0004551661356395085, 'Tools': 0.0004551661356395085, 'Tutorials': 0.0004551661356395085, 'Research': 0.0004551661356395085, 'Courses': 0.0004551661356395085, 'process': 0.0004551661356395085, 'detecting': 0.0004551661356395085, 'text': 0.000910332271279017, 'detect': 0.000910332271279017, 'social': 0.0004551661356395085, 'gauge': 0.0004551661356395085, 'reputation': 0.0004551661356395085, 'customers': 0.0004551661356395085, 'focuses': 0.0004551661356395085, 'polarity': 0.000910332271279017, 'goes': 0.0004551661356395085, 'specific': 0.0004551661356395085, 'feelings': 0.0004551661356395085, 'emotions': 0.0004551661356395085, 'angry': 0.0004551661356395085, 'happy': 0.0004551661356395085, 'sad': 0.0004551661356395085, 'etc': 0.0004551661356395085, 'urgency': 0.0004551661356395085, 'urgent': 0.000910332271279017, 'intentions': 0.0004551661356395085, 'interested': 0.000910332271279017, 'v.': 0.0004551661356395085}\n"
          ]
        }
      ]
    },
    {
      "cell_type": "code",
      "source": [
        "# sentence tokenization : \n",
        "sent_tokens = [s for s in doc.sents]\n",
        "print(sent_tokens)"
      ],
      "metadata": {
        "colab": {
          "base_uri": "https://localhost:8080/"
        },
        "id": "r4vCS9aKegc4",
        "outputId": "851919ab-c7e6-4549-ea65-d7c6109527f1"
      },
      "execution_count": 35,
      "outputs": [
        {
          "output_type": "stream",
          "name": "stdout",
          "text": [
            "[Sentiment analysis (or opinion mining) is a natural language processing (NLP) technique used to determine whether data is positive, negative or neutral., Sentiment analysis is often performed on textual data to help businesses monitor brand and product sentiment in customer feedback, and understand customer needs., \n",
            "Learn more about how sentiment analysis works, its challenges, and how you can use sentiment analysis to improve processes, decision-making, customer satisfaction and more., \n",
            "\n",
            "Once you’re familiar with the basics, get started with easy-to-use sentiment analysis tools that are ready to use right off the bat., \n",
            "What Is Sentiment Analysis?\n",
            "Types of Sentiment Analysis\n",
            "Why Is Sentiment Analysis Important?\n",
            "Sentiment Analysis Examples & Break Down of Trustpilot Reviews\n",
            "How Does Sentiment Analysis Work?\n",
            "Sentiment Analysis Challenges\n",
            "Sentiment Analysis Applications\n",
            "Sentiment Analysis Tools & Tutorials\n",
            "Sentiment Analysis Research & Courses\n",
            "Sentiment analysis is the process of detecting positive or negative sentiment in text., It’s often used by businesses to detect sentiment in social data, gauge brand reputation, and understand customers., \n",
            "Sentiment analysis focuses on the polarity of a text (positive, negative, neutral) but it also goes beyond polarity to detect specific feelings and emotions (angry, happy, sad, etc), urgency (urgent, not urgent) and even intentions (interested v. not interested)., \n",
            "]\n"
          ]
        }
      ]
    },
    {
      "cell_type": "code",
      "source": [
        "sent_score = {}"
      ],
      "metadata": {
        "id": "qIPckbcUfKNH"
      },
      "execution_count": 20,
      "outputs": []
    },
    {
      "cell_type": "code",
      "source": [
        "for sent in sent_tokens:\n",
        "  for word in sent:\n",
        "    if word.text.lower() in word_freq.keys():\n",
        "      if sent not in sent_score.keys():\n",
        "        sent_score[sent] = word_freq[word.text.lower()]\n",
        "      else:\n",
        "        sent_score[sent] += word_freq[word.text.lower()]"
      ],
      "metadata": {
        "id": "Pr4HjIBqfQWW"
      },
      "execution_count": 23,
      "outputs": []
    },
    {
      "cell_type": "code",
      "source": [
        "sent_score"
      ],
      "metadata": {
        "colab": {
          "base_uri": "https://localhost:8080/"
        },
        "id": "JPghzCs5gFdw",
        "outputId": "af4fdc2d-57a6-4076-f0dd-775d341eeeaa"
      },
      "execution_count": 36,
      "outputs": [
        {
          "output_type": "execute_result",
          "data": {
            "text/plain": [
              "{Sentiment analysis (or opinion mining) is a natural language processing (NLP) technique used to determine whether data is positive, negative or neutral.: 0.21893491124260359,\n",
              " Sentiment analysis is often performed on textual data to help businesses monitor brand and product sentiment in customer feedback, and understand customer needs.: 0.2781065088757396,\n",
              " \n",
              " Learn more about how sentiment analysis works, its challenges, and how you can use sentiment analysis to improve processes, decision-making, customer satisfaction and more.: 0.2662721893491124,\n",
              " \n",
              " \n",
              " Once you’re familiar with the basics, get started with easy-to-use sentiment analysis tools that are ready to use right off the bat.: 0.16568047337278108,\n",
              " \n",
              " What Is Sentiment Analysis?\n",
              " Types of Sentiment Analysis\n",
              " Why Is Sentiment Analysis Important?\n",
              " Sentiment Analysis Examples & Break Down of Trustpilot Reviews\n",
              " How Does Sentiment Analysis Work?\n",
              " Sentiment Analysis Challenges\n",
              " Sentiment Analysis Applications\n",
              " Sentiment Analysis Tools & Tutorials\n",
              " Sentiment Analysis Research & Courses\n",
              " Sentiment analysis is the process of detecting positive or negative sentiment in text.: 0.9112426035502956,\n",
              " It’s often used by businesses to detect sentiment in social data, gauge brand reputation, and understand customers.: 0.13609467455621305,\n",
              " \n",
              " Sentiment analysis focuses on the polarity of a text (positive, negative, neutral) but it also goes beyond polarity to detect specific feelings and emotions (angry, happy, sad, etc), urgency (urgent, not urgent) and even intentions (interested v. not interested).: 0.32544378698224846}"
            ]
          },
          "metadata": {},
          "execution_count": 36
        }
      ]
    },
    {
      "cell_type": "code",
      "source": [
        "# select 40% sentences with maximum score\n",
        "from heapq import nlargest"
      ],
      "metadata": {
        "id": "cc2-lxhvgOVX"
      },
      "execution_count": 37,
      "outputs": []
    },
    {
      "cell_type": "code",
      "source": [
        "len(sent_score) * 0.4"
      ],
      "metadata": {
        "colab": {
          "base_uri": "https://localhost:8080/"
        },
        "id": "oVA4RMpHgXxN",
        "outputId": "63c71181-9e32-4193-8bce-e873dfc542cb"
      },
      "execution_count": 44,
      "outputs": [
        {
          "output_type": "execute_result",
          "data": {
            "text/plain": [
              "2.8000000000000003"
            ]
          },
          "metadata": {},
          "execution_count": 44
        }
      ]
    },
    {
      "cell_type": "code",
      "source": [
        "summary = nlargest(int(len(sent_score) * 0.4),iterable= sent_score,key=sent_score.get)"
      ],
      "metadata": {
        "id": "sIBvaEvKge_N"
      },
      "execution_count": 46,
      "outputs": []
    },
    {
      "cell_type": "code",
      "source": [
        "summary"
      ],
      "metadata": {
        "colab": {
          "base_uri": "https://localhost:8080/"
        },
        "id": "DBcfJ_wggtvg",
        "outputId": "59c36508-9f93-4f6a-b4c2-674befee7740"
      },
      "execution_count": 47,
      "outputs": [
        {
          "output_type": "execute_result",
          "data": {
            "text/plain": [
              "[\n",
              " What Is Sentiment Analysis?\n",
              " Types of Sentiment Analysis\n",
              " Why Is Sentiment Analysis Important?\n",
              " Sentiment Analysis Examples & Break Down of Trustpilot Reviews\n",
              " How Does Sentiment Analysis Work?\n",
              " Sentiment Analysis Challenges\n",
              " Sentiment Analysis Applications\n",
              " Sentiment Analysis Tools & Tutorials\n",
              " Sentiment Analysis Research & Courses\n",
              " Sentiment analysis is the process of detecting positive or negative sentiment in text.,\n",
              " \n",
              " Sentiment analysis focuses on the polarity of a text (positive, negative, neutral) but it also goes beyond polarity to detect specific feelings and emotions (angry, happy, sad, etc), urgency (urgent, not urgent) and even intentions (interested v. not interested).]"
            ]
          },
          "metadata": {},
          "execution_count": 47
        }
      ]
    },
    {
      "cell_type": "code",
      "source": [
        "final_summary = [word.text for word in summary]\n",
        "print(final_summary)"
      ],
      "metadata": {
        "colab": {
          "base_uri": "https://localhost:8080/"
        },
        "id": "6Sv8wzMfgzyw",
        "outputId": "4f065c33-2420-450e-ed6f-95514fa62539"
      },
      "execution_count": 48,
      "outputs": [
        {
          "output_type": "stream",
          "name": "stdout",
          "text": [
            "['\\nWhat Is Sentiment Analysis?\\nTypes of Sentiment Analysis\\nWhy Is Sentiment Analysis Important?\\nSentiment Analysis Examples & Break Down of Trustpilot Reviews\\nHow Does Sentiment Analysis Work?\\nSentiment Analysis Challenges\\nSentiment Analysis Applications\\nSentiment Analysis Tools & Tutorials\\nSentiment Analysis Research & Courses\\nSentiment analysis is the process of detecting positive or negative sentiment in text.', '\\nSentiment analysis focuses on the polarity of a text (positive, negative, neutral) but it also goes beyond polarity to detect specific feelings and emotions (angry, happy, sad, etc), urgency (urgent, not urgent) and even intentions (interested v. not interested).']\n"
          ]
        }
      ]
    },
    {
      "cell_type": "code",
      "source": [
        "summ = \" \".join(final_summary)\n",
        "summ"
      ],
      "metadata": {
        "colab": {
          "base_uri": "https://localhost:8080/",
          "height": 105
        },
        "id": "wMMUw00kg_hE",
        "outputId": "49fd82a5-f55b-4a02-cfa6-434392cd12f8"
      },
      "execution_count": 49,
      "outputs": [
        {
          "output_type": "execute_result",
          "data": {
            "text/plain": [
              "'\\nWhat Is Sentiment Analysis?\\nTypes of Sentiment Analysis\\nWhy Is Sentiment Analysis Important?\\nSentiment Analysis Examples & Break Down of Trustpilot Reviews\\nHow Does Sentiment Analysis Work?\\nSentiment Analysis Challenges\\nSentiment Analysis Applications\\nSentiment Analysis Tools & Tutorials\\nSentiment Analysis Research & Courses\\nSentiment analysis is the process of detecting positive or negative sentiment in text. \\nSentiment analysis focuses on the polarity of a text (positive, negative, neutral) but it also goes beyond polarity to detect specific feelings and emotions (angry, happy, sad, etc), urgency (urgent, not urgent) and even intentions (interested v. not interested).'"
            ],
            "application/vnd.google.colaboratory.intrinsic+json": {
              "type": "string"
            }
          },
          "metadata": {},
          "execution_count": 49
        }
      ]
    }
  ]
}